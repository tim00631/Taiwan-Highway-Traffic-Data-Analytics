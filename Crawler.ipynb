{
 "cells": [
  {
   "cell_type": "code",
   "execution_count": 6,
   "metadata": {},
   "outputs": [
    {
     "name": "stdout",
     "output_type": "stream",
     "text": [
      "https://tisvcloud.freeway.gov.tw/history/TDCS/M06A/M06A_20201013.tar.gz\n",
      "https://tisvcloud.freeway.gov.tw/history/TDCS/M06A/M06A_20201014.tar.gz\n",
      "https://tisvcloud.freeway.gov.tw/history/TDCS/M06A/M06A_20201015.tar.gz\n",
      "https://tisvcloud.freeway.gov.tw/history/TDCS/M06A/M06A_20201016.tar.gz\n",
      "https://tisvcloud.freeway.gov.tw/history/TDCS/M06A/M06A_20201017.tar.gz\n",
      "https://tisvcloud.freeway.gov.tw/history/TDCS/M06A/M06A_20201018.tar.gz\n",
      "https://tisvcloud.freeway.gov.tw/history/TDCS/M06A/M06A_20201019.tar.gz\n",
      "https://tisvcloud.freeway.gov.tw/history/TDCS/M06A/M06A_20201020.tar.gz\n",
      "https://tisvcloud.freeway.gov.tw/history/TDCS/M06A/M06A_20201021.tar.gz\n",
      "https://tisvcloud.freeway.gov.tw/history/TDCS/M06A/M06A_20201022.tar.gz\n",
      "https://tisvcloud.freeway.gov.tw/history/TDCS/M06A/M06A_20201023.tar.gz\n",
      "https://tisvcloud.freeway.gov.tw/history/TDCS/M06A/M06A_20201024.tar.gz\n",
      "https://tisvcloud.freeway.gov.tw/history/TDCS/M06A/M06A_20201025.tar.gz\n",
      "https://tisvcloud.freeway.gov.tw/history/TDCS/M06A/M06A_20201026.tar.gz\n",
      "https://tisvcloud.freeway.gov.tw/history/TDCS/M06A/M06A_20201027.tar.gz\n",
      "https://tisvcloud.freeway.gov.tw/history/TDCS/M06A/M06A_20201028.tar.gz\n",
      "https://tisvcloud.freeway.gov.tw/history/TDCS/M06A/M06A_20201029.tar.gz\n",
      "https://tisvcloud.freeway.gov.tw/history/TDCS/M06A/M06A_20201030.tar.gz\n",
      "https://tisvcloud.freeway.gov.tw/history/TDCS/M06A/M06A_20201031.tar.gz\n",
      "https://tisvcloud.freeway.gov.tw/history/TDCS/M06A/M06A_20201101.tar.gz\n",
      "https://tisvcloud.freeway.gov.tw/history/TDCS/M06A/M06A_20201102.tar.gz\n",
      "https://tisvcloud.freeway.gov.tw/history/TDCS/M06A/M06A_20201103.tar.gz\n",
      "https://tisvcloud.freeway.gov.tw/history/TDCS/M06A/M06A_20201104.tar.gz\n",
      "https://tisvcloud.freeway.gov.tw/history/TDCS/M06A/M06A_20201105.tar.gz\n",
      "https://tisvcloud.freeway.gov.tw/history/TDCS/M06A/M06A_20201106.tar.gz\n",
      "https://tisvcloud.freeway.gov.tw/history/TDCS/M06A/M06A_20201107.tar.gz\n",
      "https://tisvcloud.freeway.gov.tw/history/TDCS/M06A/M06A_20201108.tar.gz\n",
      "https://tisvcloud.freeway.gov.tw/history/TDCS/M06A/M06A_20201109.tar.gz\n",
      "https://tisvcloud.freeway.gov.tw/history/TDCS/M06A/M06A_20201110.tar.gz\n",
      "https://tisvcloud.freeway.gov.tw/history/TDCS/M06A/M06A_20201111.tar.gz\n",
      "https://tisvcloud.freeway.gov.tw/history/TDCS/M06A/M06A_20201112.tar.gz\n",
      "done\n"
     ]
    }
   ],
   "source": [
    "import urllib.request\n",
    "import tarfile\n",
    "import datetime\n",
    "\n",
    "# Adjust the date below, and you can get the date format from start to end ~\n",
    "start = datetime.date(2020, 11, 13)\n",
    "end = datetime.date(2020, 11, 13)\n",
    "delta = datetime.timedelta(days=1)\n",
    "date = start\n",
    "fmt = \"https://tisvcloud.freeway.gov.tw/history/TDCS/M06A/M06A_{date:%Y%m%d}.tar.gz\"\n",
    "while start < end:\n",
    "    url = fmt.format(date=date)\n",
    "    print(url)\n",
    "    ftpstream = urllib.request.urlopen(url)\n",
    "    thetarfile = tarfile.open(fileobj=ftpstream, mode=\"r|gz\")\n",
    "    date = start + delta\n",
    "    start = date\n",
    "    thetarfile.extractall()\n",
    "print(\"done\")"
   ]
  },
  {
   "cell_type": "code",
   "execution_count": null,
   "metadata": {},
   "outputs": [],
   "source": []
  }
 ],
 "metadata": {
  "kernelspec": {
   "display_name": "Python 3",
   "language": "python",
   "name": "python3"
  },
  "language_info": {
   "codemirror_mode": {
    "name": "ipython",
    "version": 3
   },
   "file_extension": ".py",
   "mimetype": "text/x-python",
   "name": "python",
   "nbconvert_exporter": "python",
   "pygments_lexer": "ipython3",
   "version": "3.8.6"
  }
 },
 "nbformat": 4,
 "nbformat_minor": 4
}
